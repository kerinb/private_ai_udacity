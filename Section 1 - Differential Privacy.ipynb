{
 "cells": [
  {
   "cell_type": "markdown",
   "metadata": {},
   "source": [
    "## Lesson: Toy Differential Privacy - Simple Database Queries"
   ]
  },
  {
   "cell_type": "markdown",
   "metadata": {},
   "source": [
    "In this section we're going to play around with Differential Privacy in the context of a database query. The database is going to be a VERY simple database with only one boolean column. Each row corresponds to a person. Each value corresponds to whether or not that person has a certain private attribute (such as whether they have a certain disease, or whether they are above/below a certain age). We are then going to learn how to know whether a database query over such a small database is differentially private or not - and more importantly - what techniques are at our disposal to ensure various levels of privacy\n",
    "\n",
    "\n",
    "### First We Create a Simple Database\n",
    "\n",
    "Step one is to create our database - we're going to do this by initializing a random list of 1s and 0s (which are the entries in our database). Note - the number of entries directly corresponds to the number of people in our database."
   ]
  },
  {
   "cell_type": "code",
   "execution_count": 1,
   "metadata": {},
   "outputs": [
    {
     "data": {
      "text/plain": [
       "tensor([0, 0, 0, 0, 1, 1, 0, 0, 0, 0], dtype=torch.uint8)"
      ]
     },
     "execution_count": 1,
     "metadata": {},
     "output_type": "execute_result"
    }
   ],
   "source": [
    "import torch\n",
    "\n",
    "# the number of entries in our database\n",
    "num_entries = 10\n",
    "\n",
    "db = torch.rand(num_entries) > 0.5\n",
    "db"
   ]
  },
  {
   "cell_type": "markdown",
   "metadata": {},
   "source": [
    "## Project: Generate Parallel Databases\n",
    "\n",
    "Key to the definition of differenital privacy is the ability to ask the question \"When querying a database, if I removed someone from the database, would the output of the query be any different?\". Thus, in order to check this, we must construct what we term \"parallel databases\" which are simply databases with one entry removed. \n",
    "\n",
    "In this first project, I want you to create a list of every parallel database to the one currently contained in the \"db\" variable. Then, I want you to create a function which both:\n",
    "\n",
    "- creates the initial database (db)\n",
    "- creates all parallel databases"
   ]
  },
  {
   "cell_type": "code",
   "execution_count": 2,
   "metadata": {},
   "outputs": [],
   "source": [
    "# try project here!"
   ]
  },
  {
   "cell_type": "code",
   "execution_count": 3,
   "metadata": {},
   "outputs": [
    {
     "data": {
      "text/plain": [
       "tensor([0, 0, 1, 1, 1, 1, 1, 1, 0, 1], dtype=torch.uint8)"
      ]
     },
     "execution_count": 3,
     "metadata": {},
     "output_type": "execute_result"
    }
   ],
   "source": [
    "db = torch.rand(num_entries) > 0.5\n",
    "db"
   ]
  },
  {
   "cell_type": "code",
   "execution_count": 4,
   "metadata": {},
   "outputs": [
    {
     "data": {
      "text/plain": [
       "torch.Size([10])"
      ]
     },
     "execution_count": 4,
     "metadata": {},
     "output_type": "execute_result"
    }
   ],
   "source": [
    "db.shape"
   ]
  },
  {
   "cell_type": "code",
   "execution_count": 5,
   "metadata": {},
   "outputs": [],
   "source": [
    "'''\n",
    "This function will create a single insatnce of the parallel DB's \n",
    "with remove_index removed from the originla DB - db\n",
    "'''\n",
    "def get_parallel_db(db, remove_index):\n",
    "    return torch.cat((db[0:remove_index], \n",
    "                      db[remove_index+1:]))"
   ]
  },
  {
   "cell_type": "code",
   "execution_count": 6,
   "metadata": {},
   "outputs": [],
   "source": [
    "'''\n",
    "This function, given a DB, will generate all of the parallel DBs\n",
    "with one person missing from each pdb\n",
    "'''\n",
    "def get_parallel_dbs(db):\n",
    "    parallel_dbs = list()\n",
    "\n",
    "    for i in range(len(db)):\n",
    "        pdb = get_parallel_db(db, i)\n",
    "        parallel_dbs.append(pdb)\n",
    "\n",
    "    return parallel_dbs"
   ]
  },
  {
   "cell_type": "code",
   "execution_count": 7,
   "metadata": {},
   "outputs": [
    {
     "data": {
      "text/plain": [
       "[tensor([0, 1, 1, 1, 1, 1, 1, 0, 1], dtype=torch.uint8),\n",
       " tensor([0, 1, 1, 1, 1, 1, 1, 0, 1], dtype=torch.uint8),\n",
       " tensor([0, 0, 1, 1, 1, 1, 1, 0, 1], dtype=torch.uint8),\n",
       " tensor([0, 0, 1, 1, 1, 1, 1, 0, 1], dtype=torch.uint8),\n",
       " tensor([0, 0, 1, 1, 1, 1, 1, 0, 1], dtype=torch.uint8),\n",
       " tensor([0, 0, 1, 1, 1, 1, 1, 0, 1], dtype=torch.uint8),\n",
       " tensor([0, 0, 1, 1, 1, 1, 1, 0, 1], dtype=torch.uint8),\n",
       " tensor([0, 0, 1, 1, 1, 1, 1, 0, 1], dtype=torch.uint8),\n",
       " tensor([0, 0, 1, 1, 1, 1, 1, 1, 1], dtype=torch.uint8),\n",
       " tensor([0, 0, 1, 1, 1, 1, 1, 1, 0], dtype=torch.uint8)]"
      ]
     },
     "execution_count": 7,
     "metadata": {},
     "output_type": "execute_result"
    }
   ],
   "source": [
    "pdbs = get_parallel_dbs(db)\n",
    "pdbs"
   ]
  },
  {
   "cell_type": "code",
   "execution_count": 8,
   "metadata": {},
   "outputs": [
    {
     "data": {
      "text/plain": [
       "tensor([0, 1, 1, 0, 1, 1, 1, 1, 0, 1, 0, 0, 1, 0, 0, 1, 0, 1, 1, 1],\n",
       "       dtype=torch.uint8)"
      ]
     },
     "execution_count": 8,
     "metadata": {},
     "output_type": "execute_result"
    }
   ],
   "source": [
    "def create_db_and_parallels(num_db_entires):\n",
    "    db = torch.rand(num_db_entires) > 0.5\n",
    "    pdbs = get_parallel_dbs(db)\n",
    "    return db, pdbs\n",
    "\n",
    "db, pdbs = create_db_and_parallels(20)\n",
    "db"
   ]
  },
  {
   "cell_type": "markdown",
   "metadata": {},
   "source": [
    "# Lesson 3: Towards Evaluating The Differential Privacy of a Function\n",
    "\n",
    "Intuitively, we want to be able to query our database and evaluate whether or not the result of the query is leaking \"private\" information. As mentioned previously, this is about evaluating whether the output of a query changes when we remove someone from the database. Specifically, we want to evaluate the *maximum* amount the query changes when someone is removed (maximum over all possible people who could be removed). So, in order to evaluate how much privacy is leaked, we're going to iterate over each person in the database and measure the difference in the output of the query relative to when we query the entire database. \n",
    "\n",
    "Just for the sake of argument, let's make our first \"database query\" a simple sum. Aka, we're going to count the number of 1s in the database."
   ]
  },
  {
   "cell_type": "code",
   "execution_count": 9,
   "metadata": {},
   "outputs": [],
   "source": [
    "db, pdbs = create_db_and_parallels(5000)"
   ]
  },
  {
   "cell_type": "code",
   "execution_count": 10,
   "metadata": {},
   "outputs": [],
   "source": [
    "def query(db):\n",
    "    return db.sum()"
   ]
  },
  {
   "cell_type": "code",
   "execution_count": 11,
   "metadata": {},
   "outputs": [],
   "source": [
    "full_db_result = query(db)"
   ]
  },
  {
   "cell_type": "code",
   "execution_count": 12,
   "metadata": {},
   "outputs": [],
   "source": [
    "sensitivity = 0\n",
    "for pdb in pdbs: # iterate across all pdbs\n",
    "    pdb_result = query(pdb) # great pdb results\n",
    "    \n",
    "    db_distance = torch.abs(pdb_result - full_db_result) # abs distance (L1)\n",
    "    \n",
    "    if(db_distance > sensitivity):\n",
    "        sensitivity = db_distance"
   ]
  },
  {
   "cell_type": "code",
   "execution_count": 13,
   "metadata": {},
   "outputs": [
    {
     "data": {
      "text/plain": [
       "tensor(1)"
      ]
     },
     "execution_count": 13,
     "metadata": {},
     "output_type": "execute_result"
    }
   ],
   "source": [
    "sensitivity"
   ]
  },
  {
   "cell_type": "markdown",
   "metadata": {},
   "source": [
    "# Project - Evaluating the Privacy of a Function\n",
    "\n",
    "In the last section, we measured the difference between each parallel db's query result and the query result for the entire database and then calculated the max value (which was 1). This value is called \"sensitivity\", and it corresponds to the function we chose for the query. Namely, the \"sum\" query will always have a sensitivity of exactly 1. However, we can also calculate sensitivity for other functions as well.\n",
    "\n",
    "Let's try to calculate sensitivity for the \"mean\" function."
   ]
  },
  {
   "cell_type": "code",
   "execution_count": 14,
   "metadata": {},
   "outputs": [],
   "source": [
    "# try this project here!"
   ]
  },
  {
   "cell_type": "code",
   "execution_count": 15,
   "metadata": {},
   "outputs": [],
   "source": [
    "def sensitivity(query, n_entries=1000):\n",
    "\n",
    "    db, pdbs = create_db_and_parallels(n_entries)\n",
    "    full_db_result = query(db)\n",
    "    \n",
    "    sensitivity = 0\n",
    "    for pdb in pdbs: # iterate across all pdbs\n",
    "        pdb_result = query(pdb) # great pdb results\n",
    "\n",
    "        db_distance = torch.abs(pdb_result - full_db_result) # abs distance (L1)\n",
    "\n",
    "        if(db_distance > sensitivity):\n",
    "            sensitivity = db_distance\n",
    "            \n",
    "    return sensitivity"
   ]
  },
  {
   "cell_type": "code",
   "execution_count": 16,
   "metadata": {},
   "outputs": [],
   "source": [
    "def mean_query(db):\n",
    "    return db.float().mean()\n",
    "\n",
    "\n",
    "def sum_query(db):\n",
    "    return db.sum()"
   ]
  },
  {
   "cell_type": "code",
   "execution_count": 17,
   "metadata": {},
   "outputs": [
    {
     "name": "stdout",
     "output_type": "stream",
     "text": [
      "tensor(0.0005)\n",
      "tensor(1)\n"
     ]
    }
   ],
   "source": [
    "print(sensitivity(mean_query))\n",
    "print(sensitivity(sum_query))"
   ]
  },
  {
   "cell_type": "markdown",
   "metadata": {},
   "source": [
    "Wow! That sensitivity is WAY lower. Note the intuition here. \"Sensitivity\" is measuring how sensitive the output of the query is to a person being removed from the database. For a simple sum, this is always 1, but for the mean, removing a person is going to change the result of the query by rougly 1 divided by the size of the database (which is much smaller). Thus, \"mean\" is a VASTLY less \"sensitive\" function (query) than SUM."
   ]
  },
  {
   "cell_type": "markdown",
   "metadata": {},
   "source": [
    "# Project: Calculate L1 Sensitivity For Threshold\n",
    "\n",
    "In this first project, I want you to calculate the sensitivty for the \"threshold\" function. \n",
    "\n",
    "- First compute the sum over the database (i.e. sum(db)) and return whether that sum is greater than a certain threshold.\n",
    "- Then, I want you to create databases of size 10 and threshold of 5 and calculate the sensitivity of the function. \n",
    "- Finally, re-initialize the database 10 times and calculate the sensitivity each time."
   ]
  },
  {
   "cell_type": "code",
   "execution_count": 18,
   "metadata": {},
   "outputs": [],
   "source": [
    "# try this project here!"
   ]
  },
  {
   "cell_type": "code",
   "execution_count": 19,
   "metadata": {},
   "outputs": [],
   "source": [
    "'''\n",
    "@param db = test db were computing the sum over\n",
    "@param threshold = threshold to flag whether db size passes threshold to measure\n",
    "sensitivity\n",
    "'''\n",
    "def sum_over_db(db, threshold=5):\n",
    "    return (db.sum() > threshold).float()\n"
   ]
  },
  {
   "cell_type": "code",
   "execution_count": 20,
   "metadata": {},
   "outputs": [
    {
     "data": {
      "text/plain": [
       "tensor(1.)"
      ]
     },
     "execution_count": 20,
     "metadata": {},
     "output_type": "execute_result"
    }
   ],
   "source": [
    "sum_over_db(db)"
   ]
  },
  {
   "cell_type": "code",
   "execution_count": 21,
   "metadata": {},
   "outputs": [
    {
     "name": "stdout",
     "output_type": "stream",
     "text": [
      "0\n",
      "tensor(1.)\n",
      "0\n",
      "0\n",
      "0\n",
      "0\n",
      "0\n",
      "0\n",
      "0\n",
      "0\n"
     ]
    }
   ],
   "source": [
    "'''\n",
    "create 10 DBs of size 10, call the sensitivity function to test\n",
    "the sensitivity \n",
    "'''\n",
    "for i in range(10):\n",
    "    sen_f = sensitivity(sum_over_db, n_entries=10)\n",
    "    print(sen_f)"
   ]
  },
  {
   "cell_type": "markdown",
   "metadata": {},
   "source": [
    "# Lesson: A Basic Differencing Attack\n",
    "\n",
    "Sadly none of the functions we've looked at so far are differentially private (despite them having varying levels of sensitivity). The most basic type of attack can be done as follows.\n",
    "\n",
    "Let's say we wanted to figure out a specific person's value in the database. All we would have to do is query for the sum of the entire database and then the sum of the entire database without that person!\n",
    "\n",
    "# Project: Perform a Differencing Attack on Row 10\n",
    "\n",
    "In this project, I want you to construct a database and then demonstrate how you can use two different sum queries to explose the value of the person represented by row 10 in the database (note, you'll need to use a database with at least 10 rows)"
   ]
  },
  {
   "cell_type": "code",
   "execution_count": 22,
   "metadata": {},
   "outputs": [
    {
     "data": {
      "text/plain": [
       "tensor(0, dtype=torch.uint8)"
      ]
     },
     "execution_count": 22,
     "metadata": {},
     "output_type": "execute_result"
    }
   ],
   "source": [
    "# try this project here!\n",
    "db, _ = create_db_and_parallels(100)\n",
    "pdb = get_parallel_db(db, remove_index=10)\n",
    "db[10]\n"
   ]
  },
  {
   "cell_type": "code",
   "execution_count": 23,
   "metadata": {},
   "outputs": [
    {
     "data": {
      "text/plain": [
       "tensor(58, dtype=torch.uint8)"
      ]
     },
     "execution_count": 23,
     "metadata": {},
     "output_type": "execute_result"
    }
   ],
   "source": [
    "sum(db)"
   ]
  },
  {
   "cell_type": "code",
   "execution_count": 24,
   "metadata": {},
   "outputs": [
    {
     "data": {
      "text/plain": [
       "tensor(0, dtype=torch.uint8)"
      ]
     },
     "execution_count": 24,
     "metadata": {},
     "output_type": "execute_result"
    }
   ],
   "source": [
    "sum(db)-sum(pdb)"
   ]
  },
  {
   "cell_type": "code",
   "execution_count": 25,
   "metadata": {},
   "outputs": [
    {
     "data": {
      "text/plain": [
       "tensor(-0.0059)"
      ]
     },
     "execution_count": 25,
     "metadata": {},
     "output_type": "execute_result"
    }
   ],
   "source": [
    "sum(db).float()/len(db) -sum(pdb).float()/len(pdb)"
   ]
  },
  {
   "cell_type": "code",
   "execution_count": 26,
   "metadata": {},
   "outputs": [
    {
     "data": {
      "text/plain": [
       "tensor(-0.0059)"
      ]
     },
     "execution_count": 26,
     "metadata": {},
     "output_type": "execute_result"
    }
   ],
   "source": [
    "sum(db).float()/len(db) -sum(pdb).float()/len(pdb)"
   ]
  },
  {
   "cell_type": "code",
   "execution_count": 27,
   "metadata": {},
   "outputs": [
    {
     "data": {
      "text/plain": [
       "tensor(0, dtype=torch.uint8)"
      ]
     },
     "execution_count": 27,
     "metadata": {},
     "output_type": "execute_result"
    }
   ],
   "source": [
    "(sum(db).float() > 43) - (sum(pdb).float()>43)"
   ]
  },
  {
   "cell_type": "markdown",
   "metadata": {},
   "source": [
    "# Project: Local Differential Privacy\n",
    "\n",
    "As you can see, the basic sum query is not differentially private at all! In truth, differential privacy always requires a form of randomness added to the query. Let me show you what I mean.\n",
    "\n",
    "### Randomized Response (Local Differential Privacy)\n",
    "\n",
    "Let's say I have a group of people I wish to survey about a very taboo behavior which I think they will lie about (say, I want to know if they have ever committed a certain kind of crime). I'm not a policeman, I'm just trying to collect statistics to understand the higher level trend in society. So, how do we do this? One technique is to add randomness to each person's response by giving each person the following instructions (assuming I'm asking a simple yes/no question):\n",
    "\n",
    "- Flip a coin 2 times.\n",
    "- If the first coin flip is heads, answer honestly\n",
    "- If the first coin flip is tails, answer according to the second coin flip (heads for yes, tails for no)!\n",
    "\n",
    "Thus, each person is now protected with \"plausible deniability\". If they answer \"Yes\" to the question \"have you committed X crime?\", then it might becasue they actually did, or it might be becasue they are answering according to a random coin flip. Each person has a high degree of protection. Furthermore, we can recover the underlying statistics with some accuracy, as the \"true statistics\" are simply averaged with a 50% probability. Thus, if we collect a bunch of samples and it turns out that 60% of people answer yes, then we know that the TRUE distribution is actually centered around 70%, because 70% averaged wtih 50% (a coin flip) is 60% which is the result we obtained. \n",
    "\n",
    "However, it should be noted that, especially when we only have a few samples, the this comes at the cost of accuracy. This tradeoff exists across all of Differential Privacy. The greater the privacy protection (plausible deniability) the less accurate the results. \n",
    "\n",
    "Let's implement this local DP for our database before!"
   ]
  },
  {
   "cell_type": "code",
   "execution_count": 28,
   "metadata": {},
   "outputs": [],
   "source": [
    "db, pdbs = create_db_and_parallels(100)"
   ]
  },
  {
   "cell_type": "code",
   "execution_count": 29,
   "metadata": {},
   "outputs": [
    {
     "data": {
      "text/plain": [
       "tensor(0.4900)"
      ]
     },
     "execution_count": 29,
     "metadata": {},
     "output_type": "execute_result"
    }
   ],
   "source": [
    "true_results = torch.mean(db.float())\n",
    "true_results"
   ]
  },
  {
   "cell_type": "code",
   "execution_count": 30,
   "metadata": {},
   "outputs": [],
   "source": [
    "first_coin_flip = (torch.rand(len(db)) > 0.5).float()\n",
    "second_coin_flip = (torch.rand(len(db)) > 0.5).float()"
   ]
  },
  {
   "cell_type": "code",
   "execution_count": 31,
   "metadata": {},
   "outputs": [
    {
     "data": {
      "text/plain": [
       "tensor([0., 1., 0., 1., 1., 0., 1., 0., 0., 1., 1., 0., 1., 1., 0., 1., 1., 1.,\n",
       "        1., 0., 1., 0., 0., 0., 1., 1., 1., 0., 1., 0., 1., 1., 0., 0., 1., 1.,\n",
       "        0., 0., 1., 0., 0., 0., 0., 1., 0., 1., 0., 0., 0., 1., 1., 1., 0., 1.,\n",
       "        0., 0., 0., 1., 1., 0., 1., 1., 0., 1., 0., 0., 1., 1., 1., 0., 0., 0.,\n",
       "        0., 0., 0., 1., 0., 1., 0., 0., 0., 1., 1., 1., 0., 1., 1., 1., 0., 1.,\n",
       "        1., 0., 1., 1., 0., 1., 0., 1., 1., 0.])"
      ]
     },
     "execution_count": 31,
     "metadata": {},
     "output_type": "execute_result"
    }
   ],
   "source": [
    "first_coin_flip"
   ]
  },
  {
   "cell_type": "code",
   "execution_count": 32,
   "metadata": {},
   "outputs": [
    {
     "data": {
      "text/plain": [
       "tensor([0., 0., 0., 1., 1., 0., 0., 1., 1., 0., 0., 1., 0., 1., 0., 0., 0., 0.,\n",
       "        0., 0., 0., 0., 1., 1., 0., 0., 1., 0., 1., 0., 0., 0., 1., 1., 1., 0.,\n",
       "        0., 1., 1., 1., 0., 1., 0., 0., 1., 0., 0., 1., 1., 0., 0., 0., 0., 1.,\n",
       "        1., 1., 0., 1., 1., 1., 1., 0., 1., 1., 1., 0., 1., 1., 0., 1., 1., 0.,\n",
       "        0., 1., 0., 0., 0., 1., 1., 1., 1., 0., 1., 0., 0., 0., 1., 1., 0., 0.,\n",
       "        1., 0., 1., 1., 1., 1., 1., 1., 0., 1.])"
      ]
     },
     "execution_count": 32,
     "metadata": {},
     "output_type": "execute_result"
    }
   ],
   "source": [
    "second_coin_flip"
   ]
  },
  {
   "cell_type": "code",
   "execution_count": 33,
   "metadata": {},
   "outputs": [],
   "source": [
    "augmented_db = db.float() * first_coin_flip + (1-first_coin_flip)*second_coin_flip"
   ]
  },
  {
   "cell_type": "code",
   "execution_count": 34,
   "metadata": {},
   "outputs": [],
   "source": [
    "# this is the output of the augmented DP results\n",
    "dp_results = torch.mean(augmented_db.float()) * 2 - 0.5"
   ]
  },
  {
   "cell_type": "code",
   "execution_count": 35,
   "metadata": {},
   "outputs": [],
   "source": [
    "def query(db):\n",
    "    true_results = torch.mean(db.float())\n",
    "    \n",
    "    first_coin_flip = (torch.rand(len(db)) > 0.5).float()\n",
    "    second_coin_flip = (torch.rand(len(db)) > 0.5).float()\n",
    "    \n",
    "    augmented_db = db.float() * first_coin_flip + (1-first_coin_flip)*second_coin_flip\n",
    "    \n",
    "    dp_results = torch.mean(augmented_db.float()) * 2 - 0.5\n",
    "    \n",
    "    return dp_results, true_results"
   ]
  },
  {
   "cell_type": "code",
   "execution_count": 36,
   "metadata": {},
   "outputs": [
    {
     "name": "stdout",
     "output_type": "stream",
     "text": [
      "with noise: tensor(0.5000)\n",
      "withput noise: tensor(0.5000)\n",
      "tensor(1)\n"
     ]
    }
   ],
   "source": [
    "db, pdbs = create_db_and_parallels(10)\n",
    "\n",
    "priv_res, true_res = query(db)\n",
    "\n",
    "print(\"with noise: \" + str(priv_res))\n",
    "print(\"withput noise: \" + str(true_res))\n",
    "\n",
    "print(sensitivity(sum_query))\n"
   ]
  },
  {
   "cell_type": "markdown",
   "metadata": {},
   "source": [
    "# Project: Varying Amounts of Noise\n",
    "\n",
    "In this project, I want you to augment the randomized response query (the one we just wrote) to allow for varying amounts of randomness to be added. Specifically, I want you to bias the coin flip to be higher or lower and then run the same experiment. \n",
    "\n",
    "Note - this one is a bit tricker than you might expect. You need to both adjust the likelihood of the first coin flip AND the de-skewing at the end (where we create the \"augmented_result\" variable)."
   ]
  },
  {
   "cell_type": "code",
   "execution_count": 37,
   "metadata": {},
   "outputs": [
    {
     "data": {
      "text/plain": [
       "tensor(0.5300)"
      ]
     },
     "execution_count": 37,
     "metadata": {},
     "output_type": "execute_result"
    }
   ],
   "source": [
    "# create DB to play with here - 100 entries\n",
    "db, pdbs = create_db_and_parallels(100)\n",
    "\n",
    "true_results = torch.mean(db.float())\n",
    "true_results"
   ]
  },
  {
   "cell_type": "code",
   "execution_count": 38,
   "metadata": {},
   "outputs": [],
   "source": [
    "\n",
    "#function defining coin flip, with parameter percentage to vary\n",
    "def get_coin_flip(percent):\n",
    "    return (torch.rand(len(db)) > percent).float()\n",
    "\n"
   ]
  },
  {
   "cell_type": "code",
   "execution_count": 39,
   "metadata": {},
   "outputs": [],
   "source": [
    "augmented_db = db.float() * first_coin_flip + (1-first_coin_flip)*second_coin_flip"
   ]
  },
  {
   "cell_type": "code",
   "execution_count": 42,
   "metadata": {},
   "outputs": [],
   "source": [
    "dp_results = torch.mean(augmented_db.float()) * 2 - (1-0.5)"
   ]
  },
  {
   "cell_type": "code",
   "execution_count": 43,
   "metadata": {},
   "outputs": [],
   "source": [
    "def query(db, noise = 0.2):\n",
    "    true_results = torch.mean(db.float())\n",
    "\n",
    "    first_coin_flip = get_coin_flip(noise)\n",
    "    second_coin_flip = get_coin_flip(0.5)\n",
    "\n",
    "    augmented_db = db.float() * first_coin_flip + (1-first_coin_flip)*second_coin_flip\n",
    "\n",
    "    sk_result = augmented_db.float().mean()\n",
    "    sk_result\n",
    "    return dp_results, true_results"
   ]
  },
  {
   "cell_type": "code",
   "execution_count": 44,
   "metadata": {},
   "outputs": [],
   "source": [
    "db, pdbs = create_db_and_parallels(100)"
   ]
  },
  {
   "cell_type": "code",
   "execution_count": 45,
   "metadata": {},
   "outputs": [
    {
     "name": "stdout",
     "output_type": "stream",
     "text": [
      "with noise: tensor(0.5200)\n",
      "withput noise: tensor(0.4800)\n"
     ]
    }
   ],
   "source": [
    "db, pdbs = create_db_and_parallels(100)\n",
    "priv_res, true_res = query(db, noise=0.1)\n",
    "\n",
    "print(\"with noise: \" + str(priv_res))\n",
    "print(\"withput noise: \" + str(true_res))"
   ]
  },
  {
   "cell_type": "code",
   "execution_count": 46,
   "metadata": {},
   "outputs": [
    {
     "name": "stdout",
     "output_type": "stream",
     "text": [
      "with noise: tensor(0.5200)\n",
      "withput noise: tensor(0.5200)\n"
     ]
    }
   ],
   "source": [
    "db, pdbs = create_db_and_parallels(100)\n",
    "priv_res, true_res = query(db, noise=0.2)\n",
    "\n",
    "print(\"with noise: \" + str(priv_res))\n",
    "print(\"withput noise: \" + str(true_res))"
   ]
  },
  {
   "cell_type": "code",
   "execution_count": 47,
   "metadata": {},
   "outputs": [
    {
     "name": "stdout",
     "output_type": "stream",
     "text": [
      "with noise: tensor(0.5200)\n",
      "withput noise: tensor(0.5000)\n"
     ]
    }
   ],
   "source": [
    "db, pdbs = create_db_and_parallels(100)\n",
    "priv_res, true_res = query(db, noise=0.4)\n",
    "\n",
    "print(\"with noise: \" + str(priv_res))\n",
    "print(\"withput noise: \" + str(true_res))"
   ]
  },
  {
   "cell_type": "code",
   "execution_count": 48,
   "metadata": {},
   "outputs": [
    {
     "name": "stdout",
     "output_type": "stream",
     "text": [
      "with noise: tensor(0.5200)\n",
      "withput noise: tensor(0.4800)\n"
     ]
    }
   ],
   "source": [
    "db, pdbs = create_db_and_parallels(100)\n",
    "priv_res, true_res = query(db, noise=0.8)\n",
    "\n",
    "print(\"with noise: \" + str(priv_res))\n",
    "print(\"withput noise: \" + str(true_res))"
   ]
  },
  {
   "cell_type": "code",
   "execution_count": 49,
   "metadata": {},
   "outputs": [
    {
     "name": "stdout",
     "output_type": "stream",
     "text": [
      "with noise: tensor(0.5200)\n",
      "withput noise: tensor(0.4963)\n"
     ]
    }
   ],
   "source": [
    "db, pdbs = create_db_and_parallels(10000)\n",
    "priv_res, true_res = query(db, noise=0.8)\n",
    "\n",
    "print(\"with noise: \" + str(priv_res))\n",
    "print(\"withput noise: \" + str(true_res))"
   ]
  },
  {
   "cell_type": "markdown",
   "metadata": {},
   "source": [
    "# Lesson: The Formal Definition of Differential Privacy\n",
    "\n",
    "The previous method of adding noise was called \"Local Differentail Privacy\" because we added noise to each datapoint individually. This is necessary for some situations wherein the data is SO sensitive that individuals do not trust noise to be added later. However, it comes at a very high cost in terms of accuracy. \n",
    "\n",
    "However, alternatively we can add noise AFTER data has been aggregated by a function. This kind of noise can allow for similar levels of protection with a lower affect on accuracy. However, participants must be able to trust that no-one looked at their datapoints _before_ the aggregation took place. In some situations this works out well, in others (such as an individual hand-surveying a group of people), this is less realistic.\n",
    "\n",
    "Nevertheless, global differential privacy is incredibly important because it allows us to perform differential privacy on smaller groups of individuals with lower amounts of noise. Let's revisit our sum functions."
   ]
  },
  {
   "cell_type": "code",
   "execution_count": 51,
   "metadata": {},
   "outputs": [
    {
     "name": "stdout",
     "output_type": "stream",
     "text": [
      "None\n"
     ]
    }
   ],
   "source": [
    "db, pdbs = create_db_and_parallels(100)\n",
    "noise = 0.5\n",
    "\n",
    "def query(db):\n",
    "    return torch.sum(db.float())\n",
    "\n",
    "def M(db):\n",
    "    query(db) + noise \n",
    "\n",
    "query(db)\n",
    "print(M(db))"
   ]
  },
  {
   "cell_type": "markdown",
   "metadata": {},
   "source": [
    "So the idea here is that we want to add noise to the output of our function. We actually have two different kinds of noise we can add - Laplacian Noise or Gaussian Noise. However, before we do so at this point we need to dive into the formal definition of Differential Privacy.\n",
    "\n",
    "![alt text](dp_formula.png \"Title\")"
   ]
  },
  {
   "cell_type": "markdown",
   "metadata": {},
   "source": [
    "_Image From: \"The Algorithmic Foundations of Differential Privacy\" - Cynthia Dwork and Aaron Roth - https://www.cis.upenn.edu/~aaroth/Papers/privacybook.pdf_"
   ]
  },
  {
   "cell_type": "markdown",
   "metadata": {},
   "source": [
    "This definition does not _create_ differential privacy, instead it is a measure of how much privacy is afforded by a query M. Specifically, it's a comparison between running the query M on a database (x) and a parallel database (y). As you remember, parallel databases are defined to be the same as a full database (x) with one entry/person removed.\n",
    "\n",
    "Thus, this definition says that FOR ALL parallel databases, the maximum distance between a query on database (x) and the same query on database (y) will be e^epsilon, but that occasionally this constraint won't hold with probability delta. Thus, this theorem is called \"epsilon delta\" differential privacy.\n",
    "\n",
    "# Epsilon\n",
    "\n",
    "Let's unpack the intuition of this for a moment. \n",
    "\n",
    "Epsilon Zero: If a query satisfied this inequality where epsilon was set to 0, then that would mean that the query for all parallel databases outputed the exact same value as the full database. As you may remember, when we calculated the \"threshold\" function, often the Sensitivity was 0. In that case, the epsilon also happened to be zero.\n",
    "\n",
    "Epsilon One: If a query satisfied this inequality with epsilon 1, then the maximum distance between all queries would be 1 - or more precisely - the maximum distance between the two random distributions M(x) and M(y) is 1 (because all these queries have some amount of randomness in them, just like we observed in the last section).\n",
    "\n",
    "# Delta\n",
    "\n",
    "Delta is basically the probability that epsilon breaks. Namely, sometimes the epsilon is different for some queries than it is for others. For example, you may remember when we were calculating the sensitivity of threshold, most of the time sensitivity was 0 but sometimes it was 1. Thus, we could calculate this as \"epsilon zero but non-zero delta\" which would say that epsilon is perfect except for some probability of the time when it's arbitrarily higher. Note that this expression doesn't represent the full tradeoff between epsilon and delta."
   ]
  },
  {
   "cell_type": "markdown",
   "metadata": {},
   "source": [
    "# Lesson: How To Add Noise for Global Differential Privacy\n",
    "\n",
    "In this lesson, we're going to learn about how to take a query and add varying amounts of noise so that it satisfies a certain degree of differential privacy. In particular, we're going to leave behind the Local Differential privacy previously discussed and instead opt to focus on Global differential privacy. \n",
    "\n",
    "So, to sum up, this lesson is about adding noise to the output of our query so that it satisfies a certain epsilon-delta differential privacy threshold.\n",
    "\n",
    "There are two kinds of noise we can add - Gaussian Noise or Laplacian Noise. Generally speaking Laplacian is better, but both are still valid. Now to the hard question...\n",
    "\n",
    "### How much noise should we add?\n",
    "\n",
    "The amount of noise necessary to add to the output of a query is a function of four things:\n",
    "\n",
    "- the type of noise (Gaussian/Laplacian)\n",
    "- the sensitivity of the query/function\n",
    "- the desired epsilon (ε)\n",
    "- the desired delta (δ)\n",
    "\n",
    "Thus, for each type of noise we're adding, we have different way of calculating how much to add as a function of sensitivity, epsilon, and delta. We're going to focus on Laplacian noise. Laplacian noise is increased/decreased according to a \"scale\" parameter b. We choose \"b\" based on the following formula.\n",
    "\n",
    "b = sensitivity(query) / epsilon\n",
    "\n",
    "In other words, if we set b to be this value, then we know that we will have a privacy leakage of <= epsilon. Furthermore, the nice thing about Laplace is that it guarantees this with delta == 0. There are some tunings where we can have very low epsilon where delta is non-zero, but we'll ignore them for now.\n",
    "\n",
    "### Querying Repeatedly\n",
    "\n",
    "- if we query the database multiple times - we can simply add the epsilons (Even if we change the amount of noise and their epsilons are not the same)."
   ]
  },
  {
   "cell_type": "markdown",
   "metadata": {},
   "source": [
    "# Project: Create a Differentially Private Query\n",
    "\n",
    "In this project, I want you to take what you learned in the previous lesson and create a query function which sums over the database and adds just the right amount of noise such that it satisfies an epsilon constraint. Write a query for both \"sum\" and for \"mean\". Ensure that you use the correct sensitivity measures for both."
   ]
  },
  {
   "cell_type": "code",
   "execution_count": 52,
   "metadata": {},
   "outputs": [
    {
     "data": {
      "text/plain": [
       "tensor(0.4968)"
      ]
     },
     "execution_count": 52,
     "metadata": {},
     "output_type": "execute_result"
    }
   ],
   "source": [
    "# try this project here!\n",
    "import numpy as np\n",
    "epsilon = 0.0001\n",
    "db, pdbs = create_db_and_parallels(10000)\n",
    "\n",
    "true_results = torch.mean(db.float())\n",
    "true_results"
   ]
  },
  {
   "cell_type": "code",
   "execution_count": 53,
   "metadata": {},
   "outputs": [],
   "source": [
    "def mean_query(db):\n",
    "    return db.float().mean()\n",
    "\n",
    "\n",
    "def sum_query(db):\n",
    "    return db.sum()"
   ]
  },
  {
   "cell_type": "code",
   "execution_count": 54,
   "metadata": {},
   "outputs": [],
   "source": [
    "def laplacian_mechanism(db, query, sensitivity):\n",
    "    beta_value = sensitivity/epsilon\n",
    "    noise = torch.tensor(np.random.laplace(0, beta_value, 1))\n",
    "    \n",
    "    return query(db) + noise"
   ]
  },
  {
   "cell_type": "code",
   "execution_count": 55,
   "metadata": {},
   "outputs": [
    {
     "data": {
      "text/plain": [
       "tensor([3323.8309], dtype=torch.float64)"
      ]
     },
     "execution_count": 55,
     "metadata": {},
     "output_type": "execute_result"
    }
   ],
   "source": [
    "laplacian_mechanism(db, sum_query, 1)"
   ]
  },
  {
   "cell_type": "code",
   "execution_count": 56,
   "metadata": {},
   "outputs": [
    {
     "data": {
      "text/plain": [
       "tensor(4968)"
      ]
     },
     "execution_count": 56,
     "metadata": {},
     "output_type": "execute_result"
    }
   ],
   "source": [
    "sum_query(db)"
   ]
  },
  {
   "cell_type": "code",
   "execution_count": 57,
   "metadata": {},
   "outputs": [
    {
     "data": {
      "text/plain": [
       "tensor([8.0698], dtype=torch.float64)"
      ]
     },
     "execution_count": 57,
     "metadata": {},
     "output_type": "execute_result"
    }
   ],
   "source": [
    "laplacian_mechanism(db, mean_query, 1/100)"
   ]
  },
  {
   "cell_type": "markdown",
   "metadata": {},
   "source": [
    "# Lesson: Differential Privacy for Deep Learning\n",
    "\n",
    "So in the last lessons you may have been wondering - what does all of this have to do with Deep Learning? Well, these same techniques we were just studying form the core primitives for how Differential Privacy provides guarantees in the context of Deep Learning. \n",
    "\n",
    "Previously, we defined perfect privacy as \"a query to a database returns the same value even if we remove any person from the database\", and used this intuition in the description of epsilon/delta. In the context of deep learning we have a similar standard.\n",
    "\n",
    "Training a model on a dataset should return the same model even if we remove any person from the dataset.\n",
    "\n",
    "Thus, we've replaced \"querying a database\" with \"training a model on a dataset\". In essence, the training process is a kind of query. However, one should note that this adds two points of complexity which database queries did not have:\n",
    "\n",
    "    1. do we always know where \"people\" are referenced in the dataset?\n",
    "    2. neural models rarely never train to the same output model, even on identical data\n",
    "\n",
    "The answer to (1) is to treat each training example as a single, separate person. Strictly speaking, this is often overly zealous as some training examples have no relevance to people and others may have multiple/partial (consider an image with multiple people contained within it). Thus, localizing exactly where \"people\" are referenced, and thus how much your model would change if people were removed, is challenging.\n",
    "\n",
    "The answer to (2) is also an open problem - but several interesitng proposals have been made. We're going to focus on one of the most popular proposals, PATE.\n",
    "\n",
    "## An Example Scenario: A Health Neural Network\n",
    "\n",
    "First we're going to consider a scenario - you work for a hospital and you have a large collection of images about your patients. However, you don't know what's in them. You would like to use these images to develop a neural network which can automatically classify them, however since your images aren't labeled, they aren't sufficient to train a classifier. \n",
    "\n",
    "However, being a cunning strategist, you realize that you can reach out to 10 partner hospitals which DO have annotated data. It is your hope to train your new classifier on their datasets so that you can automatically label your own. While these hospitals are interested in helping, they have privacy concerns regarding information about their patients. Thus, you will use the following technique to train a classifier which protects the privacy of patients in the other hospitals.\n",
    "\n",
    "- 1) You'll ask each of the 10 hospitals to train a model on their own datasets (All of which have the same kinds of labels)\n",
    "- 2) You'll then use each of the 10 partner models to predict on your local dataset, generating 10 labels for each of your datapoints\n",
    "- 3) Then, for each local data point (now with 10 labels), you will perform a DP query to generate the final true label. This query is a \"max\" function, where \"max\" is the most frequent label across the 10 labels. We will need to add laplacian noise to make this Differentially Private to a certain epsilon/delta constraint.\n",
    "- 4) Finally, we will retrain a new model on our local dataset which now has labels. This will be our final \"DP\" model.\n",
    "\n",
    "So, let's walk through these steps. I will assume you're already familiar with how to train/predict a deep neural network, so we'll skip steps 1 and 2 and work with example data. We'll focus instead on step 3, namely how to perform the DP query for each example using toy data.\n",
    "\n",
    "So, let's say we have 10,000 training examples, and we've got 10 labels for each example (from our 10 \"teacher models\" which were trained directly on private data). Each label is chosen from a set of 10 possible labels (categories) for each image."
   ]
  },
  {
   "cell_type": "code",
   "execution_count": 419,
   "metadata": {},
   "outputs": [],
   "source": [
    "import numpy as np"
   ]
  },
  {
   "cell_type": "code",
   "execution_count": 420,
   "metadata": {},
   "outputs": [],
   "source": [
    "num_teachers = 10 # we're working with 10 partner hospitals\n",
    "num_examples = 10000 # the size of OUR dataset\n",
    "num_labels = 10 # number of lablels for our classifier"
   ]
  },
  {
   "cell_type": "code",
   "execution_count": 421,
   "metadata": {},
   "outputs": [],
   "source": [
    "preds = (np.random.rand(num_teachers, num_examples) * num_labels).astype(int).transpose(1,0) # fake predictions"
   ]
  },
  {
   "cell_type": "code",
   "execution_count": 422,
   "metadata": {},
   "outputs": [],
   "source": [
    "an_image = preds[:, 0]\n"
   ]
  },
  {
   "cell_type": "code",
   "execution_count": 423,
   "metadata": {},
   "outputs": [],
   "source": [
    "new_labels = list()\n",
    "for an_image in preds:\n",
    "\n",
    "    label_counts = np.bincount(an_image, minlength=num_labels)\n",
    "\n",
    "    epsilon = 0.1\n",
    "    beta = 1 / epsilon\n",
    "\n",
    "    for i in range(len(label_counts)):\n",
    "        label_counts[i] += np.random.laplace(0, beta, 1)\n",
    "\n",
    "    new_label = np.argmax(label_counts)\n",
    "    \n",
    "    new_labels.append(new_label)"
   ]
  },
  {
   "cell_type": "code",
   "execution_count": 424,
   "metadata": {},
   "outputs": [
    {
     "data": {
      "text/plain": [
       "[6,\n",
       " 8,\n",
       " 2,\n",
       " 0,\n",
       " 1,\n",
       " 2,\n",
       " 0,\n",
       " 7,\n",
       " 1,\n",
       " 3,\n",
       " 0,\n",
       " 1,\n",
       " 7,\n",
       " 0,\n",
       " 8,\n",
       " 0,\n",
       " 0,\n",
       " 3,\n",
       " 4,\n",
       " 9,\n",
       " 1,\n",
       " 8,\n",
       " 8,\n",
       " 7,\n",
       " 2,\n",
       " 9,\n",
       " 0,\n",
       " 3,\n",
       " 9,\n",
       " 4,\n",
       " 3,\n",
       " 0,\n",
       " 5,\n",
       " 9,\n",
       " 4,\n",
       " 1,\n",
       " 7,\n",
       " 4,\n",
       " 2,\n",
       " 5,\n",
       " 6,\n",
       " 6,\n",
       " 7,\n",
       " 2,\n",
       " 4,\n",
       " 1,\n",
       " 2,\n",
       " 6,\n",
       " 1,\n",
       " 9,\n",
       " 4,\n",
       " 8,\n",
       " 2,\n",
       " 4,\n",
       " 1,\n",
       " 7,\n",
       " 5,\n",
       " 5,\n",
       " 0,\n",
       " 7,\n",
       " 7,\n",
       " 6,\n",
       " 0,\n",
       " 6,\n",
       " 9,\n",
       " 8,\n",
       " 6,\n",
       " 1,\n",
       " 5,\n",
       " 3,\n",
       " 3,\n",
       " 0,\n",
       " 9,\n",
       " 7,\n",
       " 8,\n",
       " 4,\n",
       " 3,\n",
       " 9,\n",
       " 4,\n",
       " 8,\n",
       " 9,\n",
       " 1,\n",
       " 9,\n",
       " 1,\n",
       " 6,\n",
       " 3,\n",
       " 2,\n",
       " 5,\n",
       " 3,\n",
       " 3,\n",
       " 4,\n",
       " 8,\n",
       " 1,\n",
       " 5,\n",
       " 6,\n",
       " 0,\n",
       " 5,\n",
       " 6,\n",
       " 1,\n",
       " 5,\n",
       " 3,\n",
       " 2,\n",
       " 3,\n",
       " 1,\n",
       " 2,\n",
       " 4,\n",
       " 9,\n",
       " 8,\n",
       " 7,\n",
       " 3,\n",
       " 1,\n",
       " 1,\n",
       " 3,\n",
       " 8,\n",
       " 6,\n",
       " 9,\n",
       " 3,\n",
       " 2,\n",
       " 5,\n",
       " 2,\n",
       " 3,\n",
       " 5,\n",
       " 1,\n",
       " 4,\n",
       " 6,\n",
       " 6,\n",
       " 2,\n",
       " 1,\n",
       " 5,\n",
       " 3,\n",
       " 6,\n",
       " 4,\n",
       " 3,\n",
       " 1,\n",
       " 4,\n",
       " 4,\n",
       " 1,\n",
       " 6,\n",
       " 0,\n",
       " 3,\n",
       " 6,\n",
       " 9,\n",
       " 2,\n",
       " 6,\n",
       " 9,\n",
       " 2,\n",
       " 8,\n",
       " 5,\n",
       " 6,\n",
       " 4,\n",
       " 1,\n",
       " 8,\n",
       " 3,\n",
       " 1,\n",
       " 6,\n",
       " 2,\n",
       " 4,\n",
       " 6,\n",
       " 1,\n",
       " 2,\n",
       " 2,\n",
       " 4,\n",
       " 4,\n",
       " 6,\n",
       " 4,\n",
       " 1,\n",
       " 2,\n",
       " 5,\n",
       " 0,\n",
       " 8,\n",
       " 6,\n",
       " 3,\n",
       " 0,\n",
       " 2,\n",
       " 5,\n",
       " 0,\n",
       " 2,\n",
       " 2,\n",
       " 8,\n",
       " 5,\n",
       " 2,\n",
       " 7,\n",
       " 8,\n",
       " 6,\n",
       " 4,\n",
       " 1,\n",
       " 6,\n",
       " 6,\n",
       " 1,\n",
       " 4,\n",
       " 2,\n",
       " 3,\n",
       " 4,\n",
       " 2,\n",
       " 2,\n",
       " 5,\n",
       " 7,\n",
       " 3,\n",
       " 6,\n",
       " 4,\n",
       " 5,\n",
       " 2,\n",
       " 7,\n",
       " 3,\n",
       " 6,\n",
       " 1,\n",
       " 7,\n",
       " 6,\n",
       " 2,\n",
       " 8,\n",
       " 8,\n",
       " 7,\n",
       " 8,\n",
       " 7,\n",
       " 1,\n",
       " 8,\n",
       " 1,\n",
       " 3,\n",
       " 9,\n",
       " 0,\n",
       " 1,\n",
       " 5,\n",
       " 4,\n",
       " 4,\n",
       " 1,\n",
       " 2,\n",
       " 1,\n",
       " 8,\n",
       " 3,\n",
       " 6,\n",
       " 5,\n",
       " 0,\n",
       " 9,\n",
       " 9,\n",
       " 6,\n",
       " 1,\n",
       " 0,\n",
       " 8,\n",
       " 7,\n",
       " 6,\n",
       " 2,\n",
       " 6,\n",
       " 0,\n",
       " 7,\n",
       " 4,\n",
       " 1,\n",
       " 1,\n",
       " 8,\n",
       " 6,\n",
       " 6,\n",
       " 3,\n",
       " 3,\n",
       " 6,\n",
       " 0,\n",
       " 2,\n",
       " 8,\n",
       " 4,\n",
       " 0,\n",
       " 8,\n",
       " 9,\n",
       " 7,\n",
       " 0,\n",
       " 8,\n",
       " 6,\n",
       " 7,\n",
       " 8,\n",
       " 6,\n",
       " 3,\n",
       " 7,\n",
       " 5,\n",
       " 2,\n",
       " 1,\n",
       " 6,\n",
       " 7,\n",
       " 2,\n",
       " 4,\n",
       " 4,\n",
       " 2,\n",
       " 3,\n",
       " 6,\n",
       " 3,\n",
       " 4,\n",
       " 6,\n",
       " 8,\n",
       " 5,\n",
       " 0,\n",
       " 6,\n",
       " 4,\n",
       " 8,\n",
       " 8,\n",
       " 2,\n",
       " 1,\n",
       " 8,\n",
       " 3,\n",
       " 8,\n",
       " 5,\n",
       " 9,\n",
       " 0,\n",
       " 5,\n",
       " 0,\n",
       " 4,\n",
       " 9,\n",
       " 0,\n",
       " 0,\n",
       " 7,\n",
       " 3,\n",
       " 6,\n",
       " 9,\n",
       " 9,\n",
       " 7,\n",
       " 3,\n",
       " 8,\n",
       " 3,\n",
       " 2,\n",
       " 0,\n",
       " 5,\n",
       " 1,\n",
       " 4,\n",
       " 7,\n",
       " 9,\n",
       " 4,\n",
       " 4,\n",
       " 9,\n",
       " 3,\n",
       " 9,\n",
       " 5,\n",
       " 2,\n",
       " 6,\n",
       " 3,\n",
       " 2,\n",
       " 4,\n",
       " 5,\n",
       " 2,\n",
       " 4,\n",
       " 4,\n",
       " 8,\n",
       " 9,\n",
       " 4,\n",
       " 7,\n",
       " 3,\n",
       " 1,\n",
       " 4,\n",
       " 8,\n",
       " 1,\n",
       " 7,\n",
       " 5,\n",
       " 6,\n",
       " 8,\n",
       " 2,\n",
       " 7,\n",
       " 5,\n",
       " 1,\n",
       " 3,\n",
       " 8,\n",
       " 7,\n",
       " 3,\n",
       " 3,\n",
       " 2,\n",
       " 1,\n",
       " 5,\n",
       " 4,\n",
       " 2,\n",
       " 4,\n",
       " 3,\n",
       " 1,\n",
       " 5,\n",
       " 4,\n",
       " 3,\n",
       " 1,\n",
       " 0,\n",
       " 6,\n",
       " 4,\n",
       " 6,\n",
       " 2,\n",
       " 6,\n",
       " 3,\n",
       " 5,\n",
       " 2,\n",
       " 4,\n",
       " 9,\n",
       " 8,\n",
       " 8,\n",
       " 0,\n",
       " 1,\n",
       " 5,\n",
       " 3,\n",
       " 3,\n",
       " 8,\n",
       " 0,\n",
       " 8,\n",
       " 8,\n",
       " 4,\n",
       " 4,\n",
       " 2,\n",
       " 8,\n",
       " 8,\n",
       " 9,\n",
       " 8,\n",
       " 2,\n",
       " 9,\n",
       " 5,\n",
       " 8,\n",
       " 4,\n",
       " 1,\n",
       " 0,\n",
       " 3,\n",
       " 2,\n",
       " 8,\n",
       " 0,\n",
       " 8,\n",
       " 6,\n",
       " 4,\n",
       " 5,\n",
       " 5,\n",
       " 1,\n",
       " 0,\n",
       " 7,\n",
       " 8,\n",
       " 5,\n",
       " 8,\n",
       " 9,\n",
       " 2,\n",
       " 0,\n",
       " 2,\n",
       " 0,\n",
       " 6,\n",
       " 2,\n",
       " 5,\n",
       " 3,\n",
       " 9,\n",
       " 8,\n",
       " 0,\n",
       " 6,\n",
       " 6,\n",
       " 3,\n",
       " 5,\n",
       " 0,\n",
       " 7,\n",
       " 1,\n",
       " 3,\n",
       " 0,\n",
       " 9,\n",
       " 2,\n",
       " 7,\n",
       " 3,\n",
       " 6,\n",
       " 9,\n",
       " 6,\n",
       " 6,\n",
       " 0,\n",
       " 0,\n",
       " 9,\n",
       " 5,\n",
       " 1,\n",
       " 3,\n",
       " 7,\n",
       " 1,\n",
       " 1,\n",
       " 4,\n",
       " 9,\n",
       " 2,\n",
       " 8,\n",
       " 2,\n",
       " 6,\n",
       " 5,\n",
       " 4,\n",
       " 1,\n",
       " 3,\n",
       " 4,\n",
       " 4,\n",
       " 2,\n",
       " 3,\n",
       " 1,\n",
       " 8,\n",
       " 3,\n",
       " 7,\n",
       " 4,\n",
       " 4,\n",
       " 4,\n",
       " 8,\n",
       " 1,\n",
       " 8,\n",
       " 1,\n",
       " 7,\n",
       " 0,\n",
       " 7,\n",
       " 8,\n",
       " 3,\n",
       " 3,\n",
       " 8,\n",
       " 1,\n",
       " 7,\n",
       " 0,\n",
       " 6,\n",
       " 6,\n",
       " 2,\n",
       " 2,\n",
       " 9,\n",
       " 0,\n",
       " 8,\n",
       " 6,\n",
       " 2,\n",
       " 4,\n",
       " 8,\n",
       " 2,\n",
       " 1,\n",
       " 4,\n",
       " 9,\n",
       " 2,\n",
       " 7,\n",
       " 4,\n",
       " 6,\n",
       " 6,\n",
       " 7,\n",
       " 8,\n",
       " 5,\n",
       " 9,\n",
       " 1,\n",
       " 9,\n",
       " 4,\n",
       " 9,\n",
       " 6,\n",
       " 4,\n",
       " 7,\n",
       " 7,\n",
       " 4,\n",
       " 9,\n",
       " 4,\n",
       " 3,\n",
       " 7,\n",
       " 0,\n",
       " 5,\n",
       " 4,\n",
       " 7,\n",
       " 8,\n",
       " 9,\n",
       " 0,\n",
       " 2,\n",
       " 0,\n",
       " 1,\n",
       " 0,\n",
       " 0,\n",
       " 4,\n",
       " 4,\n",
       " 5,\n",
       " 2,\n",
       " 3,\n",
       " 6,\n",
       " 0,\n",
       " 8,\n",
       " 0,\n",
       " 3,\n",
       " 3,\n",
       " 0,\n",
       " 2,\n",
       " 8,\n",
       " 8,\n",
       " 0,\n",
       " 4,\n",
       " 8,\n",
       " 6,\n",
       " 2,\n",
       " 7,\n",
       " 7,\n",
       " 6,\n",
       " 2,\n",
       " 8,\n",
       " 9,\n",
       " 7,\n",
       " 0,\n",
       " 2,\n",
       " 1,\n",
       " 9,\n",
       " 7,\n",
       " 4,\n",
       " 9,\n",
       " 9,\n",
       " 5,\n",
       " 3,\n",
       " 7,\n",
       " 8,\n",
       " 5,\n",
       " 9,\n",
       " 8,\n",
       " 5,\n",
       " 7,\n",
       " 3,\n",
       " 1,\n",
       " 0,\n",
       " 9,\n",
       " 2,\n",
       " 6,\n",
       " 5,\n",
       " 6,\n",
       " 7,\n",
       " 9,\n",
       " 0,\n",
       " 0,\n",
       " 5,\n",
       " 3,\n",
       " 4,\n",
       " 8,\n",
       " 7,\n",
       " 7,\n",
       " 3,\n",
       " 2,\n",
       " 9,\n",
       " 4,\n",
       " 1,\n",
       " 5,\n",
       " 3,\n",
       " 3,\n",
       " 1,\n",
       " 6,\n",
       " 8,\n",
       " 5,\n",
       " 2,\n",
       " 6,\n",
       " 7,\n",
       " 6,\n",
       " 9,\n",
       " 9,\n",
       " 2,\n",
       " 6,\n",
       " 6,\n",
       " 9,\n",
       " 5,\n",
       " 6,\n",
       " 2,\n",
       " 5,\n",
       " 9,\n",
       " 2,\n",
       " 3,\n",
       " 2,\n",
       " 7,\n",
       " 9,\n",
       " 7,\n",
       " 1,\n",
       " 0,\n",
       " 1,\n",
       " 9,\n",
       " 5,\n",
       " 9,\n",
       " 0,\n",
       " 3,\n",
       " 8,\n",
       " 1,\n",
       " 4,\n",
       " 3,\n",
       " 5,\n",
       " 3,\n",
       " 3,\n",
       " 3,\n",
       " 3,\n",
       " 8,\n",
       " 3,\n",
       " 0,\n",
       " 7,\n",
       " 6,\n",
       " 2,\n",
       " 7,\n",
       " 8,\n",
       " 2,\n",
       " 0,\n",
       " 6,\n",
       " 1,\n",
       " 6,\n",
       " 8,\n",
       " 8,\n",
       " 2,\n",
       " 6,\n",
       " 9,\n",
       " 4,\n",
       " 0,\n",
       " 3,\n",
       " 3,\n",
       " 0,\n",
       " 8,\n",
       " 7,\n",
       " 7,\n",
       " 6,\n",
       " 4,\n",
       " 7,\n",
       " 6,\n",
       " 7,\n",
       " 3,\n",
       " 1,\n",
       " 8,\n",
       " 8,\n",
       " 8,\n",
       " 6,\n",
       " 5,\n",
       " 1,\n",
       " 9,\n",
       " 1,\n",
       " 8,\n",
       " 1,\n",
       " 1,\n",
       " 3,\n",
       " 6,\n",
       " 4,\n",
       " 0,\n",
       " 3,\n",
       " 4,\n",
       " 9,\n",
       " 0,\n",
       " 0,\n",
       " 5,\n",
       " 8,\n",
       " 5,\n",
       " 6,\n",
       " 0,\n",
       " 8,\n",
       " 9,\n",
       " 4,\n",
       " 9,\n",
       " 0,\n",
       " 4,\n",
       " 7,\n",
       " 3,\n",
       " 2,\n",
       " 8,\n",
       " 0,\n",
       " 0,\n",
       " 1,\n",
       " 0,\n",
       " 0,\n",
       " 4,\n",
       " 1,\n",
       " 9,\n",
       " 3,\n",
       " 5,\n",
       " 7,\n",
       " 8,\n",
       " 1,\n",
       " 7,\n",
       " 5,\n",
       " 8,\n",
       " 0,\n",
       " 5,\n",
       " 8,\n",
       " 2,\n",
       " 1,\n",
       " 1,\n",
       " 9,\n",
       " 8,\n",
       " 9,\n",
       " 2,\n",
       " 3,\n",
       " 2,\n",
       " 8,\n",
       " 8,\n",
       " 0,\n",
       " 9,\n",
       " 6,\n",
       " 4,\n",
       " 4,\n",
       " 8,\n",
       " 5,\n",
       " 1,\n",
       " 4,\n",
       " 5,\n",
       " 8,\n",
       " 6,\n",
       " 7,\n",
       " 3,\n",
       " 1,\n",
       " 3,\n",
       " 9,\n",
       " 6,\n",
       " 5,\n",
       " 5,\n",
       " 1,\n",
       " 9,\n",
       " 9,\n",
       " 7,\n",
       " 2,\n",
       " 4,\n",
       " 5,\n",
       " 6,\n",
       " 2,\n",
       " 8,\n",
       " 4,\n",
       " 6,\n",
       " 1,\n",
       " 4,\n",
       " 7,\n",
       " 7,\n",
       " 3,\n",
       " 7,\n",
       " 6,\n",
       " 8,\n",
       " 3,\n",
       " 9,\n",
       " 7,\n",
       " 4,\n",
       " 5,\n",
       " 7,\n",
       " 7,\n",
       " 8,\n",
       " 5,\n",
       " 6,\n",
       " 8,\n",
       " 1,\n",
       " 4,\n",
       " 9,\n",
       " 5,\n",
       " 5,\n",
       " 0,\n",
       " 9,\n",
       " 5,\n",
       " 4,\n",
       " 6,\n",
       " 0,\n",
       " 7,\n",
       " 9,\n",
       " 7,\n",
       " 9,\n",
       " 2,\n",
       " 3,\n",
       " 4,\n",
       " 7,\n",
       " 5,\n",
       " 8,\n",
       " 1,\n",
       " 2,\n",
       " 5,\n",
       " 7,\n",
       " 1,\n",
       " 2,\n",
       " 3,\n",
       " 6,\n",
       " 7,\n",
       " 0,\n",
       " 4,\n",
       " 1,\n",
       " 1,\n",
       " 9,\n",
       " 2,\n",
       " 3,\n",
       " 1,\n",
       " 2,\n",
       " 3,\n",
       " 4,\n",
       " 2,\n",
       " 6,\n",
       " 3,\n",
       " 9,\n",
       " 7,\n",
       " 1,\n",
       " 3,\n",
       " 6,\n",
       " 2,\n",
       " 7,\n",
       " 9,\n",
       " 8,\n",
       " 4,\n",
       " 6,\n",
       " 0,\n",
       " 8,\n",
       " 0,\n",
       " 0,\n",
       " 7,\n",
       " 6,\n",
       " 5,\n",
       " 0,\n",
       " 6,\n",
       " 7,\n",
       " 6,\n",
       " 0,\n",
       " 0,\n",
       " 0,\n",
       " 4,\n",
       " 6,\n",
       " 6,\n",
       " 7,\n",
       " 2,\n",
       " 5,\n",
       " 6,\n",
       " 9,\n",
       " 7,\n",
       " 8,\n",
       " 5,\n",
       " 3,\n",
       " 4,\n",
       " 4,\n",
       " 9,\n",
       " 5,\n",
       " 0,\n",
       " 0,\n",
       " 7,\n",
       " 0,\n",
       " 5,\n",
       " 8,\n",
       " 4,\n",
       " 5,\n",
       " 9,\n",
       " 1,\n",
       " 7,\n",
       " 7,\n",
       " 7,\n",
       " 3,\n",
       " 7,\n",
       " 7,\n",
       " 2,\n",
       " 1,\n",
       " 3,\n",
       " 6,\n",
       " 0,\n",
       " 5,\n",
       " 3,\n",
       " 3,\n",
       " 7,\n",
       " 7,\n",
       " 5,\n",
       " 1,\n",
       " 2,\n",
       " 6,\n",
       " 4,\n",
       " 1,\n",
       " 4,\n",
       " 0,\n",
       " 0,\n",
       " 5,\n",
       " 6,\n",
       " 6,\n",
       " 7,\n",
       " 5,\n",
       " 2,\n",
       " 1,\n",
       " 3,\n",
       " 8,\n",
       " 0,\n",
       " 7,\n",
       " 2,\n",
       " 9,\n",
       " 5,\n",
       " 6,\n",
       " 7,\n",
       " 9,\n",
       " 8,\n",
       " 0,\n",
       " 6,\n",
       " 2,\n",
       " 6,\n",
       " 9,\n",
       " 7,\n",
       " 3,\n",
       " 6,\n",
       " 9,\n",
       " 6,\n",
       " 4,\n",
       " 0,\n",
       " 4,\n",
       " 5,\n",
       " 4,\n",
       " 8,\n",
       " 3,\n",
       " 7,\n",
       " 3,\n",
       " 1,\n",
       " 9,\n",
       " 5,\n",
       " 8,\n",
       " 4,\n",
       " 4,\n",
       " 2,\n",
       " 4,\n",
       " 4,\n",
       " 6,\n",
       " 1,\n",
       " 7,\n",
       " 4,\n",
       " 5,\n",
       " 4,\n",
       " 8,\n",
       " 7,\n",
       " 0,\n",
       " 7,\n",
       " 4,\n",
       " 6,\n",
       " 7,\n",
       " 3,\n",
       " 5,\n",
       " 0,\n",
       " 8,\n",
       " 5,\n",
       " 3,\n",
       " 9,\n",
       " 2,\n",
       " 6,\n",
       " 3,\n",
       " 9,\n",
       " 4,\n",
       " 0,\n",
       " 3,\n",
       " 9,\n",
       " 7,\n",
       " 2,\n",
       " 8,\n",
       " ...]"
      ]
     },
     "execution_count": 424,
     "metadata": {},
     "output_type": "execute_result"
    }
   ],
   "source": [
    "new_labels"
   ]
  },
  {
   "cell_type": "markdown",
   "metadata": {},
   "source": [
    "# PATE Analysis"
   ]
  },
  {
   "cell_type": "code",
   "execution_count": 425,
   "metadata": {},
   "outputs": [
    {
     "name": "stdout",
     "output_type": "stream",
     "text": [
      "[0 0 1 1 0 0 1 0 1 6]\n"
     ]
    },
    {
     "data": {
      "text/plain": [
       "9"
      ]
     },
     "execution_count": 425,
     "metadata": {},
     "output_type": "execute_result"
    }
   ],
   "source": [
    "labels = np.array([9, 9, 3, 6, 9, 9, 9, 9, 8, 2])\n",
    "counts = np.bincount(labels, minlength=10)\n",
    "print(counts)\n",
    "query_result = np.argmax(counts)\n",
    "query_result"
   ]
  },
  {
   "cell_type": "code",
   "execution_count": 426,
   "metadata": {},
   "outputs": [],
   "source": [
    "from syft.frameworks.torch.differential_privacy import pate"
   ]
  },
  {
   "cell_type": "code",
   "execution_count": 427,
   "metadata": {},
   "outputs": [],
   "source": [
    "num_teachers, num_examples, num_labels = (100, 100, 10)\n",
    "preds = (np.random.rand(num_teachers, num_examples) * num_labels).astype(int) #fake preds\n",
    "indices = (np.random.rand(num_examples) * num_labels).astype(int) # true answers\n",
    "\n",
    "#preds[:,0:10] *= 0\n",
    "\n",
    "data_dep_eps, data_ind_eps = pate.perform_analysis(teacher_preds=preds, indices=indices, noise_eps=0.1, delta=1e-5)\n",
    "\n",
    "assert data_dep_eps < data_ind_eps\n",
    "\n"
   ]
  },
  {
   "cell_type": "code",
   "execution_count": 437,
   "metadata": {},
   "outputs": [
    {
     "name": "stdout",
     "output_type": "stream",
     "text": [
      "Data Independent Epsilon: 11.756462732485115\n",
      "Data Dependent Epsilon: 11.756462732485105\n",
      "(100, 100)\n",
      "(100,)\n"
     ]
    }
   ],
   "source": [
    "data_dep_eps, data_ind_eps = pate.perform_analysis(teacher_preds=preds, indices=indices, noise_eps=0.1, delta=1e-5)\n",
    "print(\"Data Independent Epsilon:\", data_ind_eps)\n",
    "print(\"Data Dependent Epsilon:\", data_dep_eps)"
   ]
  },
  {
   "cell_type": "code",
   "execution_count": 429,
   "metadata": {},
   "outputs": [],
   "source": [
    "preds[:,0:50] *= 0"
   ]
  },
  {
   "cell_type": "code",
   "execution_count": 431,
   "metadata": {},
   "outputs": [
    {
     "name": "stdout",
     "output_type": "stream",
     "text": [
      "Data Independent Epsilon: 11.756462732485115\n",
      "Data Dependent Epsilon: 0.9029013677789843\n"
     ]
    }
   ],
   "source": [
    "data_dep_eps, data_ind_eps = pate.perform_analysis(teacher_preds=preds, indices=indices, noise_eps=0.1, delta=1e-5, moments=20)\n",
    "print(\"Data Independent Epsilon:\", data_ind_eps)\n",
    "print(\"Data Dependent Epsilon:\", data_dep_eps)"
   ]
  },
  {
   "cell_type": "markdown",
   "metadata": {},
   "source": [
    "# Where to Go From Here\n",
    "\n",
    "\n",
    "Read:\n",
    "    - Algorithmic Foundations of Differential Privacy: https://www.cis.upenn.edu/~aaroth/Papers/privacybook.pdf\n",
    "    - Deep Learning with Differential Privacy: https://arxiv.org/pdf/1607.00133.pdf\n",
    "    - The Ethical Algorithm: https://www.amazon.com/Ethical-Algorithm-Science-Socially-Design/dp/0190948205\n",
    "   \n",
    "Topics:\n",
    "    - The Exponential Mechanism\n",
    "    - The Moment's Accountant\n",
    "    - Differentially Private Stochastic Gradient Descent\n",
    "\n",
    "Advice:\n",
    "    - For deployments - stick with public frameworks!\n",
    "    - Join the Differential Privacy Community\n",
    "    - Don't get ahead of yourself - DP is still in the early days"
   ]
  },
  {
   "cell_type": "markdown",
   "metadata": {},
   "source": [
    "# Section Project:\n",
    "\n",
    "For the final project for this section, you're going to train a DP model using this PATE method on the MNIST dataset, provided below."
   ]
  },
  {
   "cell_type": "code",
   "execution_count": 360,
   "metadata": {
    "scrolled": true
   },
   "outputs": [],
   "source": [
    "#imports\n",
    "\n",
    "%matplotlib inline\n",
    "%config InlineBackend.figure_format = 'retina'\n",
    "\n",
    "import numpy as np\n",
    "import torch.nn.functional as F\n",
    "import matplotlib.pyplot as plt\n",
    "import torchvision.datasets as datasets\n",
    "\n",
    "from torch import nn, optim\n",
    "from torchvision import datasets, transforms\n",
    "\n",
    "try:\n",
    "    from syft.frameworks.torch.differential_privacy import pate\n",
    "except ImportError:\n",
    "    print(\"ERROR: syft not installed - Install syft and trying import again\")\n",
    "    !pip install syft\n",
    "    from syft.frameworks.torch.differential_privacy import pate\n",
    "\n",
    "import torch"
   ]
  },
  {
   "cell_type": "code",
   "execution_count": 361,
   "metadata": {},
   "outputs": [],
   "source": [
    "#define constants\n",
    "NUM_TEACHCERS = 10 \n",
    "STUDENT_BATCH_SIZE = 100 \n",
    "STUDENT_SET_SIZE = 1000"
   ]
  },
  {
   "cell_type": "code",
   "execution_count": 362,
   "metadata": {},
   "outputs": [],
   "source": [
    "#load and transdform data\n",
    "\n",
    "# transform to be applied to dataset\n",
    "transform=transforms.Compose([transforms.ToTensor(), \n",
    "                              transforms.Normalize((0.1307, ), (0.3081, ))])\n",
    "\n",
    "#download and load training dataset with transforms applied\n",
    "mnist_trainset = datasets.MNIST(root='./data', train=True, download=True, transform=transform)\n",
    "\n",
    "#segregate the data per teacher and store in trainloaders list\n",
    "trainloaders = []\n",
    "data_per_teacher = int(len(mnist_trainset)/NUM_TEACHERS)\n",
    "for i in range(NUM_TEACHERS):\n",
    "    training_data_indices = range(i*data_per_teacher, i*data_per_teacher + data_per_teacher)\n",
    "    trainloaders.append(torch.utils.data.DataLoader(mnist_trainset, \n",
    "                                                     batch_size = 32, \n",
    "                                                     sampler=SubsetRandomSampler(training_data_indices)))\n",
    "\n",
    "# download and load the testing dataset with transforms applied    \n",
    "mnist_trainset = datasets.MNIST(root='./data', train=False, download=True, transform=transform)\n",
    "\n",
    "#setup testloader \n",
    "testloader = torch.utils.data.DataLoader(mnist_trainset, batch_size=STUDENT_BATCH_SIZE, shuffle=False)\n",
    "test_targets = mnist_testset.test_labels"
   ]
  },
  {
   "cell_type": "code",
   "execution_count": 363,
   "metadata": {},
   "outputs": [],
   "source": [
    "# create model\n",
    "class Classifier(nn.Module):\n",
    "    def __init__(self):\n",
    "        super().__init__()\n",
    "        self.fc1 = nn.Linear(784, 256)\n",
    "        self.fc2 = nn.Linear(256, 128)\n",
    "        self.fc3 = nn.Linear(128, 64)\n",
    "        self.fc4 = nn.Linear(64, 10)\n",
    "        \n",
    "    def forward(self, x):\n",
    "        # Flatten Data\n",
    "        x = x.view(x.shape[0], -1)\n",
    "        \n",
    "        # Network Structure\n",
    "        x = F.relu(self.fc1(x))\n",
    "        x = F.relu(self.fc2(x))\n",
    "        x = F.relu(self.fc3(x))\n",
    "        x = F.log_softmax(self.fc4(x), dim=1)\n",
    "        \n",
    "        return x"
   ]
  },
  {
   "cell_type": "code",
   "execution_count": 364,
   "metadata": {},
   "outputs": [],
   "source": [
    "# generate teacher models\n",
    "models = []\n",
    "for i in range(NUM_TEACHERS):\n",
    "    models.append(Classifier())"
   ]
  },
  {
   "cell_type": "code",
   "execution_count": 365,
   "metadata": {},
   "outputs": [],
   "source": [
    "# train model function\n",
    "def train_teacher_model(trainloader, model, epochs):\n",
    "    optimizer = optim.Adam(model.parameters(), lr=0.003)\n",
    "    criterion = nn.NLLLoss()\n",
    "\n",
    "    train_losses = []\n",
    "    for e in range(epochs):\n",
    "        running_loss = 0\n",
    "        label_index = 0\n",
    "        for images, labels in trainloader:\n",
    "            log_ps = model(images)\n",
    "            loss = criterion(log_ps, labels)\n",
    "\n",
    "            optimizer.zero_grad()\n",
    "            loss.backward()\n",
    "            optimizer.step()\n",
    "\n",
    "            running_loss += loss.item()\n",
    "        else:\n",
    "            #print(f\"Training loss: {running_loss}\")\n",
    "            train_loss = 0\n",
    "            accuracy = 0\n",
    "            with torch.no_grad():\n",
    "                for images, labels in trainloader:\n",
    "                    log_ps = model(images)\n",
    "                    train_loss += criterion(log_ps, labels)\n",
    "\n",
    "                    ps = torch.exp(log_ps)\n",
    "                    top_p, top_class = ps.topk(1, dim=1)\n",
    "                    equals = top_class == labels.view(*top_class.shape)\n",
    "                    accuracy += torch.mean(equals.type(torch.FloatTensor))\n",
    "\n",
    "            train_losses.append(running_loss/len(trainloader))\n",
    "            print(\"Epoch: {}/{}.. \".format(e+1, epochs),\n",
    "                  \"Training Running Loss: {:.3f}.. \".format(running_loss/len(trainloader)),\n",
    "                  \"Train Loss: {:.3f}.. \".format(train_loss/len(trainloader)),\n",
    "                  \"Train Accuracy: {:.3f}\".format(accuracy/len(trainloader)))\n",
    "    return train_losses"
   ]
  },
  {
   "cell_type": "code",
   "execution_count": 366,
   "metadata": {},
   "outputs": [
    {
     "name": "stdout",
     "output_type": "stream",
     "text": [
      "Working on model: 0\n",
      "Epoch: 1/10..  Training Running Loss: 0.544..  Train Loss: 0.201..  Train Accuracy: 0.941\n",
      "Epoch: 2/10..  Training Running Loss: 0.211..  Train Loss: 0.150..  Train Accuracy: 0.956\n",
      "Epoch: 3/10..  Training Running Loss: 0.155..  Train Loss: 0.087..  Train Accuracy: 0.976\n",
      "Epoch: 4/10..  Training Running Loss: 0.123..  Train Loss: 0.074..  Train Accuracy: 0.979\n",
      "Epoch: 5/10..  Training Running Loss: 0.100..  Train Loss: 0.055..  Train Accuracy: 0.985\n",
      "Epoch: 6/10..  Training Running Loss: 0.086..  Train Loss: 0.060..  Train Accuracy: 0.980\n",
      "Epoch: 7/10..  Training Running Loss: 0.066..  Train Loss: 0.058..  Train Accuracy: 0.983\n",
      "Epoch: 8/10..  Training Running Loss: 0.083..  Train Loss: 0.052..  Train Accuracy: 0.983\n",
      "Epoch: 9/10..  Training Running Loss: 0.066..  Train Loss: 0.027..  Train Accuracy: 0.991\n",
      "Epoch: 10/10..  Training Running Loss: 0.049..  Train Loss: 0.074..  Train Accuracy: 0.985\n",
      "Working on model: 1\n",
      "Epoch: 1/10..  Training Running Loss: 0.580..  Train Loss: 0.268..  Train Accuracy: 0.918\n",
      "Epoch: 2/10..  Training Running Loss: 0.249..  Train Loss: 0.158..  Train Accuracy: 0.957\n",
      "Epoch: 3/10..  Training Running Loss: 0.174..  Train Loss: 0.100..  Train Accuracy: 0.969\n",
      "Epoch: 4/10..  Training Running Loss: 0.117..  Train Loss: 0.142..  Train Accuracy: 0.951\n",
      "Epoch: 5/10..  Training Running Loss: 0.113..  Train Loss: 0.131..  Train Accuracy: 0.961\n",
      "Epoch: 6/10..  Training Running Loss: 0.105..  Train Loss: 0.066..  Train Accuracy: 0.981\n",
      "Epoch: 7/10..  Training Running Loss: 0.073..  Train Loss: 0.032..  Train Accuracy: 0.990\n",
      "Epoch: 8/10..  Training Running Loss: 0.066..  Train Loss: 0.062..  Train Accuracy: 0.981\n",
      "Epoch: 9/10..  Training Running Loss: 0.069..  Train Loss: 0.052..  Train Accuracy: 0.984\n",
      "Epoch: 10/10..  Training Running Loss: 0.072..  Train Loss: 0.074..  Train Accuracy: 0.975\n",
      "Working on model: 2\n",
      "Epoch: 1/10..  Training Running Loss: 0.596..  Train Loss: 0.295..  Train Accuracy: 0.906\n",
      "Epoch: 2/10..  Training Running Loss: 0.246..  Train Loss: 0.161..  Train Accuracy: 0.948\n",
      "Epoch: 3/10..  Training Running Loss: 0.173..  Train Loss: 0.100..  Train Accuracy: 0.968\n",
      "Epoch: 4/10..  Training Running Loss: 0.144..  Train Loss: 0.105..  Train Accuracy: 0.967\n",
      "Epoch: 5/10..  Training Running Loss: 0.100..  Train Loss: 0.070..  Train Accuracy: 0.978\n",
      "Epoch: 6/10..  Training Running Loss: 0.093..  Train Loss: 0.065..  Train Accuracy: 0.979\n",
      "Epoch: 7/10..  Training Running Loss: 0.069..  Train Loss: 0.048..  Train Accuracy: 0.984\n",
      "Epoch: 8/10..  Training Running Loss: 0.067..  Train Loss: 0.028..  Train Accuracy: 0.990\n",
      "Epoch: 9/10..  Training Running Loss: 0.036..  Train Loss: 0.063..  Train Accuracy: 0.984\n",
      "Epoch: 10/10..  Training Running Loss: 0.086..  Train Loss: 0.102..  Train Accuracy: 0.971\n",
      "Working on model: 3\n",
      "Epoch: 1/10..  Training Running Loss: 0.559..  Train Loss: 0.252..  Train Accuracy: 0.923\n",
      "Epoch: 2/10..  Training Running Loss: 0.245..  Train Loss: 0.134..  Train Accuracy: 0.958\n",
      "Epoch: 3/10..  Training Running Loss: 0.163..  Train Loss: 0.145..  Train Accuracy: 0.950\n",
      "Epoch: 4/10..  Training Running Loss: 0.150..  Train Loss: 0.107..  Train Accuracy: 0.971\n",
      "Epoch: 5/10..  Training Running Loss: 0.097..  Train Loss: 0.085..  Train Accuracy: 0.972\n",
      "Epoch: 6/10..  Training Running Loss: 0.079..  Train Loss: 0.067..  Train Accuracy: 0.980\n",
      "Epoch: 7/10..  Training Running Loss: 0.071..  Train Loss: 0.041..  Train Accuracy: 0.986\n",
      "Epoch: 8/10..  Training Running Loss: 0.056..  Train Loss: 0.049..  Train Accuracy: 0.986\n",
      "Epoch: 9/10..  Training Running Loss: 0.062..  Train Loss: 0.059..  Train Accuracy: 0.983\n",
      "Epoch: 10/10..  Training Running Loss: 0.083..  Train Loss: 0.041..  Train Accuracy: 0.989\n",
      "Working on model: 4\n",
      "Epoch: 1/10..  Training Running Loss: 0.581..  Train Loss: 0.258..  Train Accuracy: 0.920\n",
      "Epoch: 2/10..  Training Running Loss: 0.250..  Train Loss: 0.160..  Train Accuracy: 0.947\n",
      "Epoch: 3/10..  Training Running Loss: 0.184..  Train Loss: 0.113..  Train Accuracy: 0.964\n",
      "Epoch: 4/10..  Training Running Loss: 0.118..  Train Loss: 0.092..  Train Accuracy: 0.972\n",
      "Epoch: 5/10..  Training Running Loss: 0.106..  Train Loss: 0.085..  Train Accuracy: 0.971\n",
      "Epoch: 6/10..  Training Running Loss: 0.106..  Train Loss: 0.105..  Train Accuracy: 0.966\n",
      "Epoch: 7/10..  Training Running Loss: 0.085..  Train Loss: 0.072..  Train Accuracy: 0.979\n",
      "Epoch: 8/10..  Training Running Loss: 0.060..  Train Loss: 0.083..  Train Accuracy: 0.974\n",
      "Epoch: 9/10..  Training Running Loss: 0.033..  Train Loss: 0.052..  Train Accuracy: 0.984\n",
      "Epoch: 10/10..  Training Running Loss: 0.052..  Train Loss: 0.034..  Train Accuracy: 0.989\n",
      "Working on model: 5\n",
      "Epoch: 1/10..  Training Running Loss: 0.564..  Train Loss: 0.259..  Train Accuracy: 0.919\n",
      "Epoch: 2/10..  Training Running Loss: 0.227..  Train Loss: 0.176..  Train Accuracy: 0.943\n",
      "Epoch: 3/10..  Training Running Loss: 0.172..  Train Loss: 0.158..  Train Accuracy: 0.945\n",
      "Epoch: 4/10..  Training Running Loss: 0.135..  Train Loss: 0.072..  Train Accuracy: 0.979\n",
      "Epoch: 5/10..  Training Running Loss: 0.099..  Train Loss: 0.097..  Train Accuracy: 0.968\n",
      "Epoch: 6/10..  Training Running Loss: 0.090..  Train Loss: 0.130..  Train Accuracy: 0.962\n",
      "Epoch: 7/10..  Training Running Loss: 0.078..  Train Loss: 0.093..  Train Accuracy: 0.969\n",
      "Epoch: 8/10..  Training Running Loss: 0.063..  Train Loss: 0.036..  Train Accuracy: 0.989\n",
      "Epoch: 9/10..  Training Running Loss: 0.079..  Train Loss: 0.065..  Train Accuracy: 0.981\n",
      "Epoch: 10/10..  Training Running Loss: 0.039..  Train Loss: 0.076..  Train Accuracy: 0.978\n",
      "Working on model: 6\n",
      "Epoch: 1/10..  Training Running Loss: 0.609..  Train Loss: 0.274..  Train Accuracy: 0.915\n",
      "Epoch: 2/10..  Training Running Loss: 0.250..  Train Loss: 0.212..  Train Accuracy: 0.933\n",
      "Epoch: 3/10..  Training Running Loss: 0.198..  Train Loss: 0.140..  Train Accuracy: 0.959\n",
      "Epoch: 4/10..  Training Running Loss: 0.136..  Train Loss: 0.111..  Train Accuracy: 0.966\n",
      "Epoch: 5/10..  Training Running Loss: 0.103..  Train Loss: 0.075..  Train Accuracy: 0.981\n",
      "Epoch: 6/10..  Training Running Loss: 0.087..  Train Loss: 0.060..  Train Accuracy: 0.980\n",
      "Epoch: 7/10..  Training Running Loss: 0.071..  Train Loss: 0.074..  Train Accuracy: 0.977\n",
      "Epoch: 8/10..  Training Running Loss: 0.101..  Train Loss: 0.060..  Train Accuracy: 0.982\n",
      "Epoch: 9/10..  Training Running Loss: 0.063..  Train Loss: 0.048..  Train Accuracy: 0.984\n",
      "Epoch: 10/10..  Training Running Loss: 0.058..  Train Loss: 0.031..  Train Accuracy: 0.990\n",
      "Working on model: 7\n",
      "Epoch: 1/10..  Training Running Loss: 0.583..  Train Loss: 0.263..  Train Accuracy: 0.921\n",
      "Epoch: 2/10..  Training Running Loss: 0.250..  Train Loss: 0.170..  Train Accuracy: 0.946\n",
      "Epoch: 3/10..  Training Running Loss: 0.173..  Train Loss: 0.119..  Train Accuracy: 0.962\n",
      "Epoch: 4/10..  Training Running Loss: 0.138..  Train Loss: 0.121..  Train Accuracy: 0.966\n",
      "Epoch: 5/10..  Training Running Loss: 0.132..  Train Loss: 0.052..  Train Accuracy: 0.984\n",
      "Epoch: 6/10..  Training Running Loss: 0.076..  Train Loss: 0.044..  Train Accuracy: 0.985\n",
      "Epoch: 7/10..  Training Running Loss: 0.082..  Train Loss: 0.096..  Train Accuracy: 0.973\n",
      "Epoch: 8/10..  Training Running Loss: 0.050..  Train Loss: 0.025..  Train Accuracy: 0.993\n",
      "Epoch: 9/10..  Training Running Loss: 0.036..  Train Loss: 0.035..  Train Accuracy: 0.990\n",
      "Epoch: 10/10..  Training Running Loss: 0.063..  Train Loss: 0.035..  Train Accuracy: 0.989\n",
      "Working on model: 8\n",
      "Epoch: 1/10..  Training Running Loss: 0.592..  Train Loss: 0.236..  Train Accuracy: 0.926\n",
      "Epoch: 2/10..  Training Running Loss: 0.253..  Train Loss: 0.178..  Train Accuracy: 0.943\n",
      "Epoch: 3/10..  Training Running Loss: 0.173..  Train Loss: 0.133..  Train Accuracy: 0.957\n",
      "Epoch: 4/10..  Training Running Loss: 0.129..  Train Loss: 0.100..  Train Accuracy: 0.966\n",
      "Epoch: 5/10..  Training Running Loss: 0.127..  Train Loss: 0.068..  Train Accuracy: 0.980\n",
      "Epoch: 6/10..  Training Running Loss: 0.082..  Train Loss: 0.091..  Train Accuracy: 0.969\n",
      "Epoch: 7/10..  Training Running Loss: 0.080..  Train Loss: 0.117..  Train Accuracy: 0.964\n",
      "Epoch: 8/10..  Training Running Loss: 0.085..  Train Loss: 0.037..  Train Accuracy: 0.989\n",
      "Epoch: 9/10..  Training Running Loss: 0.058..  Train Loss: 0.057..  Train Accuracy: 0.983\n"
     ]
    },
    {
     "name": "stdout",
     "output_type": "stream",
     "text": [
      "Epoch: 10/10..  Training Running Loss: 0.093..  Train Loss: 0.036..  Train Accuracy: 0.988\n",
      "Working on model: 9\n",
      "Epoch: 1/10..  Training Running Loss: 0.507..  Train Loss: 0.263..  Train Accuracy: 0.911\n",
      "Epoch: 2/10..  Training Running Loss: 0.200..  Train Loss: 0.167..  Train Accuracy: 0.948\n",
      "Epoch: 3/10..  Training Running Loss: 0.147..  Train Loss: 0.083..  Train Accuracy: 0.976\n",
      "Epoch: 4/10..  Training Running Loss: 0.125..  Train Loss: 0.068..  Train Accuracy: 0.977\n",
      "Epoch: 5/10..  Training Running Loss: 0.084..  Train Loss: 0.059..  Train Accuracy: 0.980\n",
      "Epoch: 6/10..  Training Running Loss: 0.065..  Train Loss: 0.074..  Train Accuracy: 0.977\n",
      "Epoch: 7/10..  Training Running Loss: 0.079..  Train Loss: 0.044..  Train Accuracy: 0.986\n",
      "Epoch: 8/10..  Training Running Loss: 0.051..  Train Loss: 0.036..  Train Accuracy: 0.988\n",
      "Epoch: 9/10..  Training Running Loss: 0.055..  Train Loss: 0.026..  Train Accuracy: 0.991\n",
      "Epoch: 10/10..  Training Running Loss: 0.053..  Train Loss: 0.056..  Train Accuracy: 0.985\n"
     ]
    },
    {
     "data": {
      "image/png": "[encoded data removed]",
      "text/plain": [
       "<Figure size 432x288 with 1 Axes>"
      ]
     },
     "metadata": {
      "image/png": {
       "height": 248,
       "width": 372
      },
      "needs_background": "light"
     },
     "output_type": "display_data"
    }
   ],
   "source": [
    "# train all models\n",
    "for i in range(NUM_TEACHERS):\n",
    "    print(\"Working on model:\", i)\n",
    "    train_losses = train_teacher_model(trainloaders[i], models[i], 10)\n",
    "    line_label = \"Model: {}\".format(i)\n",
    "    plt.plot(train_losses, label=line_label)\n",
    "    plt.legend(frameon=False)"
   ]
  },
  {
   "cell_type": "code",
   "execution_count": 367,
   "metadata": {},
   "outputs": [],
   "source": [
    "# predictions function \n",
    "def predictions(model, testloader):\n",
    "    preds = torch.zeros([0, 0], dtype=torch.float32)\n",
    "    accuracy = 0\n",
    "    with torch.no_grad():\n",
    "        for images, labels in testloader:\n",
    "            log_ps = model(images)\n",
    "            ps=torch.exp(log_ps)\n",
    "            top_p, top_class = ps.topk(1, dim=1)\n",
    "            equals = top_class == labels.view(*top_class.shape)\n",
    "            accuracy += torch.mean(equals.type(torch.FloatTensor))\n",
    "            if preds.shape[0]:\n",
    "                preds = torch.cat((preds, top_class), 0)\n",
    "            else:\n",
    "                preds = top_class\n",
    "        print(accuracy/len(testloader))\n",
    "        return preds"
   ]
  },
  {
   "cell_type": "code",
   "execution_count": 447,
   "metadata": {},
   "outputs": [
    {
     "name": "stdout",
     "output_type": "stream",
     "text": [
      "tensor(0.9355)\n",
      "tensor(0.9251)\n",
      "tensor(0.9335)\n",
      "tensor(0.9357)\n",
      "tensor(0.9386)\n",
      "tensor(0.9360)\n",
      "tensor(0.9439)\n",
      "tensor(0.9442)\n",
      "tensor(0.9430)\n",
      "tensor(0.9270)\n"
     ]
    }
   ],
   "source": [
    "# generate preds\n",
    "all_preds = torch.zeros([0, 0], dtype=torch.float32)\n",
    "for i in range(NUM_TEACHERS):\n",
    "    preds = predictions(models[i], testloader)\n",
    "    if all_preds.shape[0]:\n",
    "        all_preds = torch.cat((all_preds, preds), 1)\n",
    "    else:\n",
    "        all_preds = preds"
   ]
  },
  {
   "cell_type": "code",
   "execution_count": 450,
   "metadata": {},
   "outputs": [
    {
     "data": {
      "text/plain": [
       "tensor([[7, 2, 1, 0, 4, 1, 4, 9, 6, 9, 0, 6, 9, 0, 1, 5, 9, 7, 3, 4],\n",
       "        [7, 2, 1, 0, 4, 1, 4, 9, 6, 9, 0, 6, 9, 0, 1, 5, 9, 7, 3, 4],\n",
       "        [7, 2, 1, 0, 4, 1, 4, 9, 8, 9, 0, 6, 9, 0, 1, 5, 9, 7, 3, 4],\n",
       "        [7, 2, 1, 0, 4, 1, 4, 9, 4, 9, 0, 6, 9, 0, 1, 5, 9, 7, 3, 4],\n",
       "        [7, 2, 1, 0, 4, 1, 4, 9, 4, 9, 0, 6, 9, 0, 1, 5, 9, 7, 3, 4],\n",
       "        [7, 2, 1, 0, 4, 1, 4, 9, 5, 9, 0, 6, 9, 0, 1, 5, 9, 7, 3, 4],\n",
       "        [7, 2, 1, 0, 4, 1, 4, 9, 5, 9, 0, 6, 9, 0, 1, 5, 9, 7, 3, 4],\n",
       "        [7, 2, 1, 0, 4, 1, 4, 9, 6, 9, 0, 6, 9, 0, 1, 5, 9, 7, 3, 4],\n",
       "        [7, 2, 1, 0, 4, 1, 4, 9, 4, 9, 0, 6, 9, 0, 1, 5, 9, 7, 3, 4],\n",
       "        [7, 2, 1, 0, 4, 1, 4, 9, 5, 9, 0, 6, 9, 0, 1, 5, 9, 7, 8, 4]])"
      ]
     },
     "execution_count": 450,
     "metadata": {},
     "output_type": "execute_result"
    }
   ],
   "source": [
    "all_preds = torch.t(all_preds) # transpose the datasets\n",
    "all_preds[:,0:20]"
   ]
  },
  {
   "cell_type": "code",
   "execution_count": 451,
   "metadata": {},
   "outputs": [],
   "source": [
    "all_counts = np.zeros((10,(len(test_targets))))\n",
    "all_counts_noise = np.zeros((10,(len(test_targets))))\n",
    "lap_scale = 1\n",
    "\n",
    "for i in range(len(test_targets)):\n",
    "    counts = np.bincount(all_preds[:,i],minlength=10)\n",
    "    all_counts[:,i] = counts\n",
    "    for j in range(len(counts)):\n",
    "        counts[j] += np.random.laplace(loc=0.0, scale=float(lap_scale))\n",
    "    all_counts_noise[:,i] = counts\n",
    "    \n",
    "query_result = np.argmax(all_counts, axis=0)\n",
    "agreement = np.max(all_counts, axis=0)\n",
    "query_result_noise = np.argmax(all_counts_noise, axis=0)\n",
    "agreement_noise = np.max(all_counts_noise, axis=0)"
   ]
  },
  {
   "cell_type": "code",
   "execution_count": 452,
   "metadata": {},
   "outputs": [
    {
     "name": "stdout",
     "output_type": "stream",
     "text": [
      "Average of models agreeing on label:  9.4963\n",
      "Minimum of models agreeing on label:  2.0\n",
      "Average of models agreeing on label (with noise):  9.0038\n",
      "Minimum of models agreeing on label (with noise):  1.0\n"
     ]
    }
   ],
   "source": [
    "print(\"Average of models agreeing on label: \",np.mean(agreement))\n",
    "print(\"Minimum of models agreeing on label: \", np.min(agreement))\n",
    "print(\"Average of models agreeing on label (with noise): \",np.mean(agreement_noise))\n",
    "print(\"Minimum of models agreeing on label (with noise): \", np.min(agreement_noise))"
   ]
  },
  {
   "cell_type": "code",
   "execution_count": 453,
   "metadata": {},
   "outputs": [],
   "source": [
    "# Train the student model on newly labelled datasets\n",
    "def train_student_model (trainloader, model, epochs, test_labels):\n",
    "\n",
    "    optimizer = optim.Adam(model.parameters(), lr=0.003)\n",
    "    criterion = nn.NLLLoss()\n",
    "\n",
    "    train_losses = []\n",
    "    for e in range(epochs):\n",
    "        running_loss = 0\n",
    "        label_index = 0\n",
    "        for images, labels in trainloader:\n",
    "            new_labels = test_labels[label_index*STUDENT_BATCH_SIZE:label_index*STUDENT_BATCH_SIZE+STUDENT_BATCH_SIZE]\n",
    "            label_index = label_index + 1\n",
    "              \n",
    "            if (label_index<(STUDENT_SET_SIZE / STUDENT_BATCH_SIZE)):\n",
    "                log_ps = model(images)\n",
    "                loss = criterion(log_ps, new_labels)\n",
    "\n",
    "                optimizer.zero_grad()\n",
    "                loss.backward()\n",
    "                optimizer.step()\n",
    "\n",
    "            running_loss += loss.item()\n",
    "        else:\n",
    "            print(f\"Training loss: {running_loss}\")\n",
    "            train_losses.append(running_loss/len(trainloader))\n",
    "    return train_losses"
   ]
  },
  {
   "cell_type": "code",
   "execution_count": 454,
   "metadata": {},
   "outputs": [
    {
     "name": "stdout",
     "output_type": "stream",
     "text": [
      "Training loss: 110.1875170469284\n",
      "Training loss: 29.829743772745132\n",
      "Training loss: 47.51120117306709\n",
      "Training loss: 26.396990656852722\n",
      "Training loss: 22.990755930542946\n",
      "Training loss: 13.043750263750553\n",
      "Training loss: 8.158343441784382\n",
      "Training loss: 2.568417139351368\n",
      "Training loss: 1.3646612847223878\n",
      "Training loss: 0.5965772471390665\n"
     ]
    },
    {
     "data": {
      "text/plain": [
       "<matplotlib.legend.Legend at 0x2531908fa90>"
      ]
     },
     "execution_count": 454,
     "metadata": {},
     "output_type": "execute_result"
    },
    {
     "data": {
      "image/png": "[encoded data removed]",
      "text/plain": [
       "<Figure size 432x288 with 1 Axes>"
      ]
     },
     "metadata": {
      "image/png": {
       "height": 248,
       "width": 372
      },
      "needs_background": "light"
     },
     "output_type": "display_data"
    }
   ],
   "source": [
    "student_model = Classifier()\n",
    "train_losses = train_student_model(testloader,student_model,\n",
    "                                   10,\n",
    "                                   torch.LongTensor(query_result_noise))\n",
    "line_label = \"Student Model\"\n",
    "plt.plot(train_losses, label=line_label)\n",
    "plt.legend(frameon=False)"
   ]
  },
  {
   "cell_type": "code",
   "execution_count": 455,
   "metadata": {
    "scrolled": true
   },
   "outputs": [],
   "source": [
    "def student_preds(model, testloader, test_labels):\n",
    "    preds = torch.zeros([0, 0], dtype=torch.float32)\n",
    "    accuracy = 0\n",
    "    true_accuracy = 0 \n",
    "    \n",
    "    with torch.no_grad():\n",
    "        label_index = 0\n",
    "        for images, labels in testloader:\n",
    "            new_labels = test_labels[label_index*STUDENT_BATCH_SIZE: label_index*STUDENT_BATCH_SIZE+STUDENT_BATCH_SIZE]\n",
    "            label_index += 1\n",
    "            \n",
    "            if (test_labels > (STUDENT_SET_SIZE/STUDENT_BATCH_SIZE)):\n",
    "                log_ps = model(images)\n",
    "                \n",
    "                ps = torch.exp(log_ps)\n",
    "                top_p, top_class = ps.topk(1, dim=1)\n",
    "                equals = top_class == new_labels.view(*top_class.shape)\n",
    "                accuracy += torch.mean(equals.type(torch.FloatTensor))\n",
    "                \n",
    "                true_equals = top_class == labels.view(*top_class.shape)\n",
    "                true_accuracy += torch.mean(true_equals.type(torch.FloatTensor))\n",
    "                \n",
    "                if preds.shape[0]:\n",
    "                    preds = torch.cat((preds, top_class), 0)\n",
    "                else:\n",
    "                    preds = top_class\n",
    "                    \n",
    "    print(true_accuracy / (len(testloader) - (STUDENT_SET_SIZE / STUDENT_BATCH_SIZE)))\n",
    "    return preds"
   ]
  },
  {
   "cell_type": "code",
   "execution_count": 456,
   "metadata": {},
   "outputs": [
    {
     "name": "stdout",
     "output_type": "stream",
     "text": [
      "tensor(0.8890)\n"
     ]
    }
   ],
   "source": [
    "preds = student_predictions(student_model, testloader, torch.LongTensor(query_result_noise))"
   ]
  },
  {
   "cell_type": "code",
   "execution_count": 457,
   "metadata": {},
   "outputs": [
    {
     "name": "stdout",
     "output_type": "stream",
     "text": [
      "(10, 1000)\n",
      "(10, 10000)\n",
      "(1000,)\n"
     ]
    }
   ],
   "source": [
    "print(all_preds[:,0:1000].numpy().shape)\n",
    "print(all_preds[0:1000,:].numpy().shape)\n",
    "\n",
    "print(query_result_noise[0:1000].shape)"
   ]
  },
  {
   "cell_type": "code",
   "execution_count": 460,
   "metadata": {},
   "outputs": [
    {
     "name": "stdout",
     "output_type": "stream",
     "text": [
      "Data Independent Epsilon: 51.51292546497024\n",
      "Data Dependent Epsilon: 51.512925464969555\n"
     ]
    }
   ],
   "source": [
    "data_dep_eps, data_ind_eps = pate.perform_analysis(teacher_preds=all_preds[:,0:1000],\n",
    "                                                   indices=query_result_noise[0:1000], \n",
    "                                                   noise_eps=0.1, delta=1e-5)\n",
    "print(\"Data Independent Epsilon:\", data_ind_eps)\n",
    "print(\"Data Dependent Epsilon:\", data_dep_eps)"
   ]
  },
  {
   "cell_type": "code",
   "execution_count": null,
   "metadata": {},
   "outputs": [],
   "source": []
  }
 ],
 "metadata": {
  "kernelspec": {
   "display_name": "Python 3",
   "language": "python",
   "name": "python3"
  },
  "language_info": {
   "codemirror_mode": {
    "name": "ipython",
    "version": 3
   },
   "file_extension": ".py",
   "mimetype": "text/x-python",
   "name": "python",
   "nbconvert_exporter": "python",
   "pygments_lexer": "ipython3",
   "version": "3.7.3"
  }
 },
 "nbformat": 4,
 "nbformat_minor": 2
}
